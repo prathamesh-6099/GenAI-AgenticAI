{
 "cells": [
  {
   "cell_type": "markdown",
   "id": "63a6c667",
   "metadata": {},
   "source": [
    "### Custom tools\n"
   ]
  },
  {
   "cell_type": "code",
   "execution_count": 8,
   "id": "150bd3af",
   "metadata": {},
   "outputs": [],
   "source": [
    "# @tool decorator\n",
    "from langchain_core.tools import tool"
   ]
  },
  {
   "cell_type": "code",
   "execution_count": 2,
   "id": "a5ab240d",
   "metadata": {},
   "outputs": [],
   "source": [
    "@tool\n",
    "def division(a:int, b:int)->int:\n",
    "    \"\"\"Divide 2 numbers \"\"\"\n",
    "    return a/b"
   ]
  },
  {
   "cell_type": "code",
   "execution_count": 3,
   "id": "8d4e72e3",
   "metadata": {},
   "outputs": [
    {
     "name": "stdout",
     "output_type": "stream",
     "text": [
      "division\n",
      "Divide 2 numbers\n",
      "{'a': {'title': 'A', 'type': 'integer'}, 'b': {'title': 'B', 'type': 'integer'}}\n"
     ]
    }
   ],
   "source": [
    "print(division.name)\n",
    "print(division.description)\n",
    "print(division.args)"
   ]
  },
  {
   "cell_type": "code",
   "execution_count": null,
   "id": "226d01fd",
   "metadata": {},
   "outputs": [],
   "source": [
    "### async implementataion \n",
    "@tool\n",
    "async def division(a:int, b:int)->int:\n",
    "    \"\"\"Multiply 2 numbers \"\"\"\n",
    "    return a*b"
   ]
  },
  {
   "cell_type": "code",
   "execution_count": 13,
   "id": "80f31472",
   "metadata": {},
   "outputs": [],
   "source": [
    "from typing import Annotated,List\n",
    "@tool\n",
    "\n",
    "def multiply_by_max(\n",
    "    a:Annotated[int,\"A value\"],\n",
    "    b:Annotated[List[int],\"list of ints over which to take maximum\"]\n",
    ")->int:\n",
    "    \n",
    "    \"\"\"Multiply a by the max of b\"\"\"\n",
    "\n",
    "    return a*max(b)\n",
    "\n",
    "    "
   ]
  },
  {
   "cell_type": "code",
   "execution_count": 14,
   "id": "fafc8dde",
   "metadata": {},
   "outputs": [
    {
     "name": "stdout",
     "output_type": "stream",
     "text": [
      "{'a': {'description': 'A value', 'title': 'A', 'type': 'integer'}, 'b': {'description': 'list of ints over which to take maximum', 'items': {'type': 'integer'}, 'title': 'B', 'type': 'array'}}\n"
     ]
    }
   ],
   "source": [
    "print(multiply_by_max.args)"
   ]
  },
  {
   "cell_type": "code",
   "execution_count": 17,
   "id": "a3186fea",
   "metadata": {},
   "outputs": [
    {
     "name": "stdout",
     "output_type": "stream",
     "text": [
      "6\n",
      "10\n"
     ]
    }
   ],
   "source": [
    "### structure Tool\n",
    "from langchain_core.tools import StructuredTool\n",
    "\n",
    "def multiply(a:int, b:int)->int:\n",
    "    \"\"\"Multiply 2 numbers \"\"\"\n",
    "    return a*b\n",
    "\n",
    "\n",
    "async def amultiply(a:int, b:int)->int:\n",
    "    \"\"\"Multiply 2 numbers \"\"\"\n",
    "    return a*b\n",
    "\n",
    "calculator=StructuredTool.from_function(func=multiply,coroutine=amultiply)\n",
    "print(calculator.invoke({\"a\":2,\"b\":3}))\n",
    "print(await calculator.ainvoke({\"a\":2,\"b\":5}))\n",
    " "
   ]
  },
  {
   "cell_type": "markdown",
   "id": "853a0464",
   "metadata": {},
   "source": [
    "# IN build tools\n"
   ]
  },
  {
   "cell_type": "code",
   "execution_count": 21,
   "id": "431b085d",
   "metadata": {},
   "outputs": [
    {
     "name": "stdout",
     "output_type": "stream",
     "text": [
      "Page: LangChain\n",
      "Summary: LangChain is a software framework that helps facilitate the integration of large language models (LLMs) into applications. As a language model integration framework, LangChain's use-cases largely overlap with those of language models in general, including document analysis and summarization, chatbots, and code analysis.\n",
      "\n",
      "\n",
      "\n",
      "Page: Vector database\n",
      "Summary: A vector database, vector store or vector search engine is a database that uses the vector space model to store vectors\n"
     ]
    }
   ],
   "source": [
    "### Wikipedia integration\n",
    "from langchain_community.tools import WikipediaQueryRun\n",
    "from langchain_community.utilities import WikipediaAPIWrapper\n",
    "\n",
    "api_wrapper=WikipediaAPIWrapper(top_k_results=5,doc_content_chars_max=500)\n",
    "tool=WikipediaQueryRun(api_wrapper=api_wrapper)\n",
    "\n",
    "print(tool.invoke({\"query\":\"langchain\"}))"
   ]
  },
  {
   "cell_type": "code",
   "execution_count": 1,
   "id": "facd1a4b",
   "metadata": {},
   "outputs": [
    {
     "data": {
      "text/plain": [
       "True"
      ]
     },
     "execution_count": 1,
     "metadata": {},
     "output_type": "execute_result"
    }
   ],
   "source": [
    "import os \n",
    "from dotenv import load_dotenv\n",
    "load_dotenv()"
   ]
  },
  {
   "cell_type": "code",
   "execution_count": 2,
   "id": "86585d7a",
   "metadata": {},
   "outputs": [],
   "source": [
    "os.environ[\"TAVILY_API_KEY\"]=os.getenv(\"TAVILY_API_KEY\")\n",
    "os.environ[\"GROQ_API_KEY\"]=os.getenv(\"GROQ_API_KEY\")"
   ]
  },
  {
   "cell_type": "code",
   "execution_count": 4,
   "id": "32e0a079",
   "metadata": {},
   "outputs": [],
   "source": [
    "from langchain_tavily import TavilySearch\n",
    "\n",
    "tool = TavilySearch(\n",
    "    max_results=5,\n",
    "    topic=\"general\",\n",
    "    # include_answer=False,\n",
    "    # include_raw_content=False,\n",
    "    # include_images=False,\n",
    "    # include_image_descriptions=False,\n",
    "    # search_depth=\"basic\",\n",
    "    # time_range=\"day\",\n",
    "    # include_domains=None,\n",
    "    # exclude_domains=None\n",
    ")"
   ]
  },
  {
   "cell_type": "code",
   "execution_count": 5,
   "id": "db3f7e29",
   "metadata": {},
   "outputs": [
    {
     "data": {
      "text/plain": [
       "{'query': 'what is trending news ?',\n",
       " 'follow_up_questions': None,\n",
       " 'answer': None,\n",
       " 'images': [],\n",
       " 'results': [{'url': 'https://apnews.com/hub/trending-news',\n",
       "   'title': \"Trending News | What's New Around the World - AP News\",\n",
       "   'content': 'Image 1: AP Logo Image 5: AP Logo Image 24: Donald Trump Jr. participates in the announcement of Trump Mobile, in New York\\'s Trump Tower, Monday, June 16, 2025. Image 29: This combination of images shows the Rosebud sled from the film “Citizen Kane,\" left, a whip wielded by Harrison Ford in “Indiana Jones and the Last Crusade,\" center, and the knit hat worn by Macaulay Culkin in the film \"Home Alone.\" (Heritage Auctions via AP) Image 37: Josh Allen, of the Buffalo Bills, and his fiancé, Hailee Steinfeld, pose on the red carpet at the NFL Honors award show ahead of the Super Bowl 59 football game, Thursday, Feb. 6, 2025, in New Orleans. Image 46: In this Friday Jan. 25, 2019, file photo is the air traffic control tower at LaGuardia Airport in New York. (AP Photo/File)',\n",
       "   'score': 0.98508,\n",
       "   'raw_content': None},\n",
       "  {'url': 'https://news.google.com/',\n",
       "   'title': 'Google News',\n",
       "   'content': 'Google News News Google News News Search *   About Google News Showcase White House eyes Budapest for peace talks with Zelenskyy and Putin Image 6 Full Coverage \"Politicizing intelligence\": Trump admin revokes security clearances of 37 U.S. officials Trump news at a glance: Gabbard strips security clearance from dozens of intelligence officials Image 12 Full Coverage Sign in for personalized stories in your briefing & news feed More news A new feature from Google highlighting stories selected by newsroom editors A new feature from Google highlighting stories selected by newsroom editors *   About News Showcase *   About News Showcase WHAT\\'S NEWS TODAY *   About News Showcase Google News Search Clear search Google apps',\n",
       "   'score': 0.9837,\n",
       "   'raw_content': None},\n",
       "  {'url': 'https://abcnews.go.com/',\n",
       "   'title': 'ABC News - Breaking News, Latest News and Videos',\n",
       "   'content': 'Image 3 Image 4 Image 5 Image 6 Image 7 Image 8 Image 9 Image 10 Image 11 Image 12 Image 13 Image 14 Image 15 Image 16 Image 17 Image 18 Image 19 Image 20 Image 21 Image 22 Image 23 Image 24 Image 28 Image 29 Image 30 3:09 Image 31 4:36 Image 32 3:40 Image 33 9:56 Image 34 5:00 Image 35 3:25 Image 36 1:08 Image 37 2:48 Image 69 ABC News Studios Some states provide residents (or, in some cases, their authorized agents) with the right to opt out of “targeted advertising,” “selling,” or “sharing” of personal information. To learn more, visit \"Do Not Sell or Share My Personal Information\" and \"Targeted Advertising\" Opt-Out Rights.',\n",
       "   'score': 0.9778,\n",
       "   'raw_content': None},\n",
       "  {'url': 'https://www.usatoday.com/news/trending/',\n",
       "   'title': 'Trending News & Headlines - USA TODAY',\n",
       "   'content': \"Watch: Plane makes emergency landing after flames shoot from engine FDA warns of radioactive contamination in some shrimp sold at Walmart Are beaches closed due to Hurricane Erin? What we know Why a lawmaker spent the night in the Texas Capitol New Netflix documentary highlights career of new wave band Devo Mark Rober, the CrunchLabs engineer, will head to Netflix soonShopping Deals & Product Recommendations  McDonald's announces BTS TinyTAN Happy Meal release date New Chipotle rewards program for college students: Here's what you can get These states could still catch the northern lights tonight Trump makes private comment to Macron on hot mic about Putin deal 'The Diplomat' Season 3: Release date, cast, how to watch Video shows SUV crash into restaurant, influencers at Houston eatery This Chick-fil-A is now requiring minors to have an adult chaperone Slain NYPD officer's wife gives birth to 3rd child: 'Their father's legacy' Skygazers still have a chance to spot Milky Way. How you can see it California baby missing after mom said he was kidnapped: What we know Does size matter?\",\n",
       "   'score': 0.97552,\n",
       "   'raw_content': None},\n",
       "  {'url': 'https://www.cnn.com/',\n",
       "   'title': 'CNN: Breaking News, Latest News and Videos',\n",
       "   'content': 'Image 2: eliya cohen thumb 1.jpg • Video 6:28 CNNVideo He says he learned English while in captivity 6:28 Eliya Cohen was held hostage for 505 days in Gaza, telling CNN’s Clarissa Ward in an exclusive interview that he was chained, shared scraps of pita with other hostages and learned English courtesy of a book gifted to him by a fellow hostage who was subsequently executed by Hamas. Image 4: still_21881190_144122.94_still.jpg • Video 2:27 CNNVideo Jasmine Crockett slams Trump’s attacks on Smithsonian 2:27 In an interview with CNN’s Brianna Keilar, Rep. Jasmine Crockett (D-TX) reacts to President Donald Trump’s escalation to purge cultural institutions of materials that conflict with his political directives, alleging museums were too focused on highlighting negative aspects of American history, including “how bad slavery was.” Image 30: Ithaca TV CUT.00_00_43_10.Still004.jpg • Video 2:33 CNNVideo See why this is CNN’s best town to visit for 2025 2:33',\n",
       "   'score': 0.96763,\n",
       "   'raw_content': None}],\n",
       " 'response_time': 0.64,\n",
       " 'request_id': '012d61f2-2a40-45f6-8472-c271e2fe8fa5'}"
      ]
     },
     "execution_count": 5,
     "metadata": {},
     "output_type": "execute_result"
    }
   ],
   "source": [
    "tool.invoke(\"what is trending news ?\")"
   ]
  },
  {
   "cell_type": "markdown",
   "id": "60a8562c",
   "metadata": {},
   "source": [
    "### Call Tools with LLM"
   ]
  },
  {
   "cell_type": "code",
   "execution_count": 6,
   "id": "a80c3f24",
   "metadata": {},
   "outputs": [
    {
     "name": "stdout",
     "output_type": "stream",
     "text": [
      "Page: LangChain\n",
      "Summary: LangChain is a software framework that helps facilitate the integration of large language models (LLMs) into applications. As a language model integration framework, LangChain's use-cases largely overlap with those of language models in general, including document analysis and summarization, chatbots, and code analysis.\n",
      "\n",
      "\n",
      "\n",
      "Page: Vector database\n",
      "Summary: A vector database, vector store or vector search engine is a database that uses the vector space model to store vectors\n"
     ]
    }
   ],
   "source": [
    "### Wikipedia integration\n",
    "from langchain_community.tools import WikipediaQueryRun\n",
    "from langchain_community.utilities import WikipediaAPIWrapper\n",
    "\n",
    "api_wrapper=WikipediaAPIWrapper(top_k_results=5,doc_content_chars_max=500)\n",
    "wiki_tool=WikipediaQueryRun(api_wrapper=api_wrapper)\n",
    "\n",
    "print(wiki_tool.invoke({\"query\":\"langchain\"}))"
   ]
  },
  {
   "cell_type": "code",
   "execution_count": 9,
   "id": "f3e3205e",
   "metadata": {},
   "outputs": [],
   "source": [
    "# Custom tool\n",
    "@tool\n",
    "def addition(a:int, b:int)->int:\n",
    "    \"\"\"addition of 2 numbers \"\"\"\n",
    "    return a+b\n",
    "\n",
    "@tool\n",
    "def multiplication(a:int,b:int)->int:\n",
    "    \"\"\"Multiplication of 2 numbers \"\"\"\n",
    "    return a*b"
   ]
  },
  {
   "cell_type": "code",
   "execution_count": 12,
   "id": "2a848148",
   "metadata": {},
   "outputs": [],
   "source": [
    "from langchain_tavily import TavilySearch\n",
    "\n",
    "tavily_tool = TavilySearch(\n",
    "    max_results=5,\n",
    "    topic=\"general\",\n",
    "    # include_answer=False,\n",
    "    # include_raw_content=False,\n",
    "    # include_images=False,\n",
    "    # include_image_descriptions=False,\n",
    "    # search_depth=\"basic\",\n",
    "    # time_range=\"day\",\n",
    "    # include_domains=None,\n",
    "    # exclude_domains=None\n",
    ")"
   ]
  },
  {
   "cell_type": "code",
   "execution_count": 47,
   "id": "b8a364b4",
   "metadata": {},
   "outputs": [],
   "source": [
    "tools=[addition,multiplication,wiki_tool,tavily_tool]"
   ]
  },
  {
   "cell_type": "code",
   "execution_count": 14,
   "id": "c1d8f2fe",
   "metadata": {},
   "outputs": [
    {
     "data": {
      "text/plain": [
       "[StructuredTool(name='addition', description='addition of 2 numbers', args_schema=<class 'langchain_core.utils.pydantic.addition'>, func=<function addition at 0x000002B9E57A1300>),\n",
       " StructuredTool(name='multiplication', description='Multiplication of 2 numbers', args_schema=<class 'langchain_core.utils.pydantic.multiplication'>, func=<function multiplication at 0x000002B9E2F4DEE0>),\n",
       " WikipediaQueryRun(api_wrapper=WikipediaAPIWrapper(wiki_client=<module 'wikipedia' from 'c:\\\\Users\\\\prathamesh kolhe\\\\OneDrive\\\\Desktop\\\\Coding\\\\GenAi_AgenticAi By Krish nayak\\\\.venv\\\\Lib\\\\site-packages\\\\wikipedia\\\\__init__.py'>, top_k_results=5, lang='en', load_all_available_meta=False, doc_content_chars_max=500)),\n",
       " TavilySearch(max_results=5, topic='general', api_wrapper=TavilySearchAPIWrapper(tavily_api_key=SecretStr('**********'), api_base_url=None))]"
      ]
     },
     "execution_count": 14,
     "metadata": {},
     "output_type": "execute_result"
    }
   ],
   "source": [
    "tools\n"
   ]
  },
  {
   "cell_type": "code",
   "execution_count": 48,
   "id": "ee814d71",
   "metadata": {},
   "outputs": [
    {
     "data": {
      "text/plain": [
       "ChatGroq(client=<groq.resources.chat.completions.Completions object at 0x000002B9F62E1400>, async_client=<groq.resources.chat.completions.AsyncCompletions object at 0x000002B9F64435F0>, model_name='qwen/qwen3-32b', model_kwargs={}, groq_api_key=SecretStr('**********'))"
      ]
     },
     "execution_count": 48,
     "metadata": {},
     "output_type": "execute_result"
    }
   ],
   "source": [
    "from langchain.chat_models import init_chat_model\n",
    "llm=init_chat_model(\"qwen/qwen3-32b\",model_provider=\"groq\")\n",
    "llm"
   ]
  },
  {
   "cell_type": "code",
   "execution_count": 49,
   "id": "0b0142d5",
   "metadata": {},
   "outputs": [
    {
     "data": {
      "text/plain": [
       "RunnableBinding(bound=ChatGroq(client=<groq.resources.chat.completions.Completions object at 0x000002B9F62E1400>, async_client=<groq.resources.chat.completions.AsyncCompletions object at 0x000002B9F64435F0>, model_name='qwen/qwen3-32b', model_kwargs={}, groq_api_key=SecretStr('**********')), kwargs={'tools': [{'type': 'function', 'function': {'name': 'addition', 'description': 'addition of 2 numbers', 'parameters': {'properties': {'a': {'type': 'integer'}, 'b': {'type': 'integer'}}, 'required': ['a', 'b'], 'type': 'object'}}}, {'type': 'function', 'function': {'name': 'multiplication', 'description': 'Multiplication of 2 numbers', 'parameters': {'properties': {'a': {'type': 'integer'}, 'b': {'type': 'integer'}}, 'required': ['a', 'b'], 'type': 'object'}}}, {'type': 'function', 'function': {'name': 'wikipedia', 'description': 'A wrapper around Wikipedia. Useful for when you need to answer general questions about people, places, companies, facts, historical events, or other subjects. Input should be a search query.', 'parameters': {'properties': {'query': {'description': 'query to look up on wikipedia', 'type': 'string'}}, 'required': ['query'], 'type': 'object'}}}, {'type': 'function', 'function': {'name': 'tavily_search', 'description': 'A search engine optimized for comprehensive, accurate, and trusted results. Useful for when you need to answer questions about current events. It not only retrieves URLs and snippets, but offers advanced search depths, domain management, time range filters, and image search, this tool delivers real-time, accurate, and citation-backed results.Input should be a search query.', 'parameters': {'properties': {'query': {'description': 'Search query to look up', 'type': 'string'}, 'include_domains': {'anyOf': [{'items': {'type': 'string'}, 'type': 'array'}, {'type': 'null'}], 'default': [], 'description': 'A list of domains to restrict search results to.\\n\\n        Use this parameter when:\\n        1. The user explicitly requests information from specific websites (e.g., \"Find climate data from nasa.gov\")\\n        2. The user mentions an organization or company without specifying the domain (e.g., \"Find information about iPhones from Apple\")\\n\\n        In both cases, you should determine the appropriate domains (e.g., [\"nasa.gov\"] or [\"apple.com\"]) and set this parameter.\\n\\n        Results will ONLY come from the specified domains - no other sources will be included.\\n        Default is None (no domain restriction).\\n        '}, 'exclude_domains': {'anyOf': [{'items': {'type': 'string'}, 'type': 'array'}, {'type': 'null'}], 'default': [], 'description': 'A list of domains to exclude from search results.\\n\\n        Use this parameter when:\\n        1. The user explicitly requests to avoid certain websites (e.g., \"Find information about climate change but not from twitter.com\")\\n        2. The user mentions not wanting results from specific organizations without naming the domain (e.g., \"Find phone reviews but nothing from Apple\")\\n\\n        In both cases, you should determine the appropriate domains to exclude (e.g., [\"twitter.com\"] or [\"apple.com\"]) and set this parameter.\\n\\n        Results will filter out all content from the specified domains.\\n        Default is None (no domain exclusion).\\n        '}, 'search_depth': {'anyOf': [{'enum': ['basic', 'advanced'], 'type': 'string'}, {'type': 'null'}], 'default': 'basic', 'description': 'Controls search thoroughness and result comprehensiveness.\\n    \\n        Use \"basic\" for simple queries requiring quick, straightforward answers.\\n        \\n        Use \"advanced\" (default) for complex queries, specialized topics, \\n        rare information, or when in-depth analysis is needed.\\n        '}, 'include_images': {'anyOf': [{'type': 'boolean'}, {'type': 'null'}], 'default': False, 'description': 'Determines if the search returns relevant images along with text results.\\n   \\n        Set to True when the user explicitly requests visuals or when images would \\n        significantly enhance understanding (e.g., \"Show me what black holes look like,\" \\n        \"Find pictures of Renaissance art\").\\n        \\n        Leave as False (default) for most informational queries where text is sufficient.\\n        '}, 'time_range': {'anyOf': [{'enum': ['day', 'week', 'month', 'year'], 'type': 'string'}, {'type': 'null'}], 'default': None, 'description': 'Limits results to content published within a specific timeframe.\\n        \\n        ONLY set this when the user explicitly mentions a time period \\n        (e.g., \"latest AI news,\" \"articles from last week\").\\n        \\n        For less popular or niche topics, use broader time ranges \\n        (\"month\" or \"year\") to ensure sufficient relevant results.\\n   \\n        Options: \"day\" (24h), \"week\" (7d), \"month\" (30d), \"year\" (365d).\\n        \\n        Default is None.\\n        '}, 'topic': {'anyOf': [{'enum': ['general', 'news', 'finance'], 'type': 'string'}, {'type': 'null'}], 'default': 'general', 'description': 'Specifies search category for optimized results.\\n   \\n        Use \"general\" (default) for most queries, INCLUDING those with terms like \\n        \"latest,\" \"newest,\" or \"recent\" when referring to general information.\\n\\n        Use \"finance\" for markets, investments, economic data, or financial news.\\n\\n        Use \"news\" ONLY for politics, sports, or major current events covered by \\n        mainstream media - NOT simply because a query asks for \"new\" information.\\n        '}, 'include_favicon': {'anyOf': [{'type': 'boolean'}, {'type': 'null'}], 'default': False, 'description': \"Determines whether to include favicon URLs for each search result.\\n        \\n        When enabled, each search result will include the website's favicon URL,\\n        which can be useful for:\\n        - Building rich UI interfaces with visual website indicators\\n        - Providing visual cues about the source's credibility or brand\\n        - Creating bookmark-like displays with recognizable site icons\\n        \\n        Set to True when creating user interfaces that benefit from visual branding\\n        or when favicon information enhances the user experience.\\n        \\n        Default is False to minimize response size and API usage.\\n        \"}, 'start_date': {'anyOf': [{'type': 'string'}, {'type': 'null'}], 'default': None, 'description': 'Filters search results to include only content published on or after this date.\\n        \\n        Use this parameter when you need to:\\n        - Find recent developments or updates on a topic\\n        - Exclude outdated information from search results\\n        - Focus on content within a specific timeframe\\n        - Combine with end_date to create a custom date range\\n        \\n        Format must be YYYY-MM-DD (e.g., \"2024-01-15\" for January 15, 2024).\\n        \\n        Examples:\\n        - \"2024-01-01\" - Results from January 1, 2024 onwards\\n        - \"2023-12-25\" - Results from December 25, 2023 onwards\\n        \\n        When combined with end_date, creates a precise date range filter.\\n        \\n        Default is None (no start date restriction).\\n        '}, 'end_date': {'anyOf': [{'type': 'string'}, {'type': 'null'}], 'default': None, 'description': 'Filters search results to include only content published on or before this date.\\n        \\n        Use this parameter when you need to:\\n        - Exclude content published after a certain date\\n        - Study historical information or past events\\n        - Research how topics were covered during specific time periods\\n        - Combine with start_date to create a custom date range\\n        \\n        Format must be YYYY-MM-DD (e.g., \"2024-03-31\" for March 31, 2024).\\n        \\n        Examples:\\n        - \"2024-03-31\" - Results up to and including March 31, 2024\\n        - \"2023-12-31\" - Results up to and including December 31, 2023\\n        \\n        When combined with start_date, creates a precise date range filter.\\n        For example: start_date=\"2024-01-01\", end_date=\"2024-03-31\" \\n        returns results from Q1 2024 only.\\n        \\n        Default is None (no end date restriction).\\n        '}}, 'required': ['query'], 'type': 'object'}}}]}, config={}, config_factories=[])"
      ]
     },
     "execution_count": 49,
     "metadata": {},
     "output_type": "execute_result"
    }
   ],
   "source": [
    "llm_with_tool=llm.bind_tools(tools)\n",
    "llm_with_tool"
   ]
  },
  {
   "cell_type": "code",
   "execution_count": 31,
   "id": "ba8bb437",
   "metadata": {},
   "outputs": [
    {
     "name": "stdout",
     "output_type": "stream",
     "text": [
      "content='' additional_kwargs={'reasoning_content': 'Okay, the user is asking \"What is 2*3\". Let me see which tool to use here. The available functions are addition, multiplication, wikipedia, and tavily_search. Since the question is a simple multiplication of two numbers, the multiplication function would be the right choice. The parameters required are a and b, both integers. Here, a is 2 and b is 3. I don\\'t need to use the other tools because this is a straightforward math problem. So I\\'ll call the multiplication function with those values.\\n', 'tool_calls': [{'id': 'amhzsw15b', 'function': {'arguments': '{\"a\":2,\"b\":3}', 'name': 'multiplication'}, 'type': 'function'}]} response_metadata={'token_usage': {'completion_tokens': 139, 'prompt_tokens': 2062, 'total_tokens': 2201, 'completion_time': 0.241303865, 'prompt_time': 0.192164819, 'queue_time': 0.064483782, 'total_time': 0.433468684}, 'model_name': 'qwen/qwen3-32b', 'system_fingerprint': 'fp_5cf921caa2', 'finish_reason': 'tool_calls', 'logprobs': None} id='run--6827c4ae-24a9-4b1b-a7fb-ef8192c0029a-0' tool_calls=[{'name': 'multiplication', 'args': {'a': 2, 'b': 3}, 'id': 'amhzsw15b', 'type': 'tool_call'}] usage_metadata={'input_tokens': 2062, 'output_tokens': 139, 'total_tokens': 2201}\n"
     ]
    }
   ],
   "source": [
    "from langchain_core.messages import HumanMessage\n",
    "query=\"What is 2*3\"\n",
    "messages=[HumanMessage(query)]\n",
    "response=llm_with_tool.invoke(query)\n",
    "print(response)"
   ]
  },
  {
   "cell_type": "code",
   "execution_count": 20,
   "id": "a4261faf",
   "metadata": {},
   "outputs": [
    {
     "data": {
      "text/plain": [
       "AIMessage(content='', additional_kwargs={'reasoning_content': 'Okay, the user is asking \"What is 2*3\". Let me see. The available tools include addition, multiplication, wikipedia, and tavily_search. The question is a simple multiplication problem. The multiplication function takes two integers as parameters. So I should call the multiplication function with a=2 and b=3. There\\'s no need to use the other tools here since it\\'s a straightforward math problem. The answer should be 6.\\n', 'tool_calls': [{'id': 'gsx399kxt', 'function': {'arguments': '{\"a\":2,\"b\":3}', 'name': 'multiplication'}, 'type': 'function'}]}, response_metadata={'token_usage': {'completion_tokens': 121, 'prompt_tokens': 2062, 'total_tokens': 2183, 'completion_time': 0.133137022, 'prompt_time': 1.699728498, 'queue_time': None, 'total_time': 1.83286552}, 'model_name': 'qwen/qwen3-32b', 'system_fingerprint': 'fp_5cf921caa2', 'finish_reason': 'tool_calls', 'logprobs': None}, id='run--acd0e801-c617-494f-95bb-ab7835a27281-0', tool_calls=[{'name': 'multiplication', 'args': {'a': 2, 'b': 3}, 'id': 'gsx399kxt', 'type': 'tool_call'}], usage_metadata={'input_tokens': 2062, 'output_tokens': 121, 'total_tokens': 2183})"
      ]
     },
     "execution_count": 20,
     "metadata": {},
     "output_type": "execute_result"
    }
   ],
   "source": [
    "response"
   ]
  },
  {
   "cell_type": "code",
   "execution_count": 21,
   "id": "6b3d62ec",
   "metadata": {},
   "outputs": [
    {
     "data": {
      "text/plain": [
       "[{'name': 'multiplication',\n",
       "  'args': {'a': 2, 'b': 3},\n",
       "  'id': 'gsx399kxt',\n",
       "  'type': 'tool_call'}]"
      ]
     },
     "execution_count": 21,
     "metadata": {},
     "output_type": "execute_result"
    }
   ],
   "source": [
    "response.tool_calls"
   ]
  },
  {
   "cell_type": "code",
   "execution_count": 25,
   "id": "af6739e5",
   "metadata": {},
   "outputs": [
    {
     "name": "stdout",
     "output_type": "stream",
     "text": [
      "multiplication addition wikipedia tavily_search\n"
     ]
    }
   ],
   "source": [
    "print(multiplication.name,\n",
    "addition.name,\n",
    "wiki_tool.name,\n",
    "tavily_tool.name)"
   ]
  },
  {
   "cell_type": "code",
   "execution_count": 32,
   "id": "3748017c",
   "metadata": {},
   "outputs": [
    {
     "data": {
      "text/plain": [
       "[HumanMessage(content='What is 2*3', additional_kwargs={}, response_metadata={}),\n",
       " ToolMessage(content='6', name='multiplication', tool_call_id='amhzsw15b')]"
      ]
     },
     "execution_count": 32,
     "metadata": {},
     "output_type": "execute_result"
    }
   ],
   "source": [
    "for tool_call in response.tool_calls:\n",
    "    # for actual tool call tool_name is replace with tool_call\n",
    "    selected_tool={\"addition\":addition,\"multiplication\":multiplication,\"wikipedia\":wiki_tool,\"tavily_search\":tavily_tool}[tool_call[\"name\"].lower()]\n",
    "    tool_msg=selected_tool.invoke(tool_call)\n",
    "    messages.append(tool_msg)\n",
    "messages"
   ]
  },
  {
   "cell_type": "code",
   "execution_count": 29,
   "id": "306337b1",
   "metadata": {},
   "outputs": [
    {
     "data": {
      "text/plain": [
       "[ToolMessage(content='6', name='multiplication', tool_call_id='gsx399kxt')]"
      ]
     },
     "execution_count": 29,
     "metadata": {},
     "output_type": "execute_result"
    }
   ],
   "source": [
    "messages"
   ]
  },
  {
   "cell_type": "code",
   "execution_count": 33,
   "id": "c42993fc",
   "metadata": {},
   "outputs": [
    {
     "data": {
      "text/plain": [
       "AIMessage(content='', additional_kwargs={'reasoning_content': 'Okay, the user asked \"What is 2*3\". Let me think. They want to multiply 2 by 3. I remember there\\'s a multiplication function available. Let me check the tools provided.\\n\\nLooking at the functions, there\\'s one called multiplication with parameters a and b, both integers. So I need to call multiplication with a=2 and b=3. That should give the result 6. Let me make sure I use the correct JSON format for the tool call. The name should be \"multiplication\" and the arguments are {\"a\": 2, \"b\": 3}. \\n\\nWait, the user might have expected a direct answer. But according to the instructions, I should use the function call. Since the answer is straightforward, using the tool is appropriate here. No need for any other functions like wikipedia or tavily_search. Just the multiplication function. Alright, that\\'s all.\\n', 'tool_calls': [{'id': 'v0ysnk4jw', 'function': {'arguments': '{\"a\":2,\"b\":3}', 'name': 'multiplication'}, 'type': 'function'}]}, response_metadata={'token_usage': {'completion_tokens': 216, 'prompt_tokens': 2072, 'total_tokens': 2288, 'completion_time': 0.769962549, 'prompt_time': 0.105929123, 'queue_time': 0.061137318, 'total_time': 0.875891672}, 'model_name': 'qwen/qwen3-32b', 'system_fingerprint': 'fp_5cf921caa2', 'finish_reason': 'tool_calls', 'logprobs': None}, id='run--376dbe47-3341-49d5-98f7-0f0a60bf6be0-0', tool_calls=[{'name': 'multiplication', 'args': {'a': 2, 'b': 3}, 'id': 'v0ysnk4jw', 'type': 'tool_call'}], usage_metadata={'input_tokens': 2072, 'output_tokens': 216, 'total_tokens': 2288})"
      ]
     },
     "execution_count": 33,
     "metadata": {},
     "output_type": "execute_result"
    }
   ],
   "source": [
    "llm_with_tool.invoke(messages)"
   ]
  },
  {
   "cell_type": "markdown",
   "id": "a4a64351",
   "metadata": {},
   "source": [
    "# Example"
   ]
  },
  {
   "cell_type": "code",
   "execution_count": 52,
   "id": "4565405d",
   "metadata": {},
   "outputs": [
    {
     "data": {
      "text/plain": [
       "AIMessage(content='', additional_kwargs={'reasoning_content': 'Okay, let\\'s break down the user\\'s query. They have three parts: explaining what LangChain is, calculating 5 multiplied by 15, and summarizing recent AI news.\\n\\nFirst, for LangChain, I know it\\'s a framework for developing applications with large language models. I should probably use the Wikipedia function to get an accurate definition. But wait, maybe the user just wants a concise explanation. Hmm, using Wikipedia would ensure the information is correct and up-to-date.\\n\\nNext, the math problem 5*15. That\\'s straightforward multiplication. The multiplication function provided can handle this. Let me confirm the parameters: it takes two integers, a and b. So, 5 and 15 as arguments.\\n\\nFor the recent AI news, the user wants a summary. Since this is current, the Tavily Search function is better than Wikipedia. I\\'ll need to set the topic to \"news\" and maybe use a time range like \"week\" to get the latest articles. Also, including domains might not be necessary unless the user specifies sources. Let me check the parameters again: query, topic, time_range. Set topic to \"news\" and time_range to \"week\" to get the most recent developments.\\n\\nWait, the user might expect a summary, so after retrieving the search results, I\\'ll need to process the information to create a concise summary. But the functions provided don\\'t include summarization, so the search results will have to provide the necessary snippets.\\n\\nPutting it all together, three separate function calls: Wikipedia for LangChain, multiplication for 5*15, and Tavily Search for recent AI news with appropriate parameters.\\n', 'tool_calls': [{'id': 'g53kymk54', 'function': {'arguments': '{\"query\":\"LangChain\"}', 'name': 'wikipedia'}, 'type': 'function'}, {'id': 'w1fft1jjk', 'function': {'arguments': '{\"a\":5,\"b\":15}', 'name': 'multiplication'}, 'type': 'function'}, {'id': '0qc968yxc', 'function': {'arguments': '{\"query\":\"recent AI news\",\"time_range\":\"week\",\"topic\":\"news\"}', 'name': 'tavily_search'}, 'type': 'function'}]}, response_metadata={'token_usage': {'completion_tokens': 427, 'prompt_tokens': 2075, 'total_tokens': 2502, 'completion_time': 0.935468067, 'prompt_time': 0.108898218, 'queue_time': 0.067934412, 'total_time': 1.044366285}, 'model_name': 'qwen/qwen3-32b', 'system_fingerprint': 'fp_5cf921caa2', 'finish_reason': 'tool_calls', 'logprobs': None}, id='run--b5c19745-cae9-4b60-9079-9690e271b15c-0', tool_calls=[{'name': 'wikipedia', 'args': {'query': 'LangChain'}, 'id': 'g53kymk54', 'type': 'tool_call'}, {'name': 'multiplication', 'args': {'a': 5, 'b': 15}, 'id': 'w1fft1jjk', 'type': 'tool_call'}, {'name': 'tavily_search', 'args': {'query': 'recent AI news', 'time_range': 'week', 'topic': 'news'}, 'id': '0qc968yxc', 'type': 'tool_call'}], usage_metadata={'input_tokens': 2075, 'output_tokens': 427, 'total_tokens': 2502})"
      ]
     },
     "execution_count": 52,
     "metadata": {},
     "output_type": "execute_result"
    }
   ],
   "source": [
    "from langchain_core.messages import HumanMessage\n",
    "query=\"What is langchain and what is 5*15 and summarize the recent ai news ?\"\n",
    "messages=[HumanMessage(query)]\n",
    "ai_msg=llm_with_tool.invoke(messages)\n",
    "ai_msg"
   ]
  },
  {
   "cell_type": "code",
   "execution_count": null,
   "id": "cd924431",
   "metadata": {},
   "outputs": [
    {
     "data": {
      "text/plain": [
       "[{'name': 'wikipedia',\n",
       "  'args': {'query': 'LangChain'},\n",
       "  'id': 'g53kymk54',\n",
       "  'type': 'tool_call'},\n",
       " {'name': 'multiplication',\n",
       "  'args': {'a': 5, 'b': 15},\n",
       "  'id': 'w1fft1jjk',\n",
       "  'type': 'tool_call'},\n",
       " {'name': 'tavily_search',\n",
       "  'args': {'query': 'recent AI news', 'time_range': 'week', 'topic': 'news'},\n",
       "  'id': '0qc968yxc',\n",
       "  'type': 'tool_call'}]"
      ]
     },
     "execution_count": 53,
     "metadata": {},
     "output_type": "execute_result"
    }
   ],
   "source": [
    "# LLM want to call tools :\n",
    "ai_msg.tool_calls"
   ]
  },
  {
   "cell_type": "code",
   "execution_count": 54,
   "id": "472039b8",
   "metadata": {},
   "outputs": [
    {
     "data": {
      "text/plain": [
       "[HumanMessage(content='What is langchain and what is 5*15 and summarize the recent ai news ?', additional_kwargs={}, response_metadata={}),\n",
       " ToolMessage(content=\"Page: LangChain\\nSummary: LangChain is a software framework that helps facilitate the integration of large language models (LLMs) into applications. As a language model integration framework, LangChain's use-cases largely overlap with those of language models in general, including document analysis and summarization, chatbots, and code analysis.\\n\\n\\n\\nPage: Model Context Protocol\\nSummary: The Model Context Protocol (MCP) is an open standard, open-source framework introduced by Anthropic in November \", name='wikipedia', tool_call_id='g53kymk54'),\n",
       " ToolMessage(content='75', name='multiplication', tool_call_id='w1fft1jjk'),\n",
       " ToolMessage(content='{\"query\": \"recent AI news\", \"follow_up_questions\": null, \"answer\": null, \"images\": [], \"results\": [{\"url\": \"https://analyticsindiamag.com/ai-news-updates/\", \"title\": \"Latest AI News, Updates and Launches\", \"content\": \"Latest in AI News · DeepSeek Releases V3. · Dhruv Rathee\\'s Startup AI Fiesta Draws Mixed Reviews, T3 Chat Comparisons · Databricks Valued at $100 Billion as It\", \"score\": 0.7668008, \"raw_content\": null}, {\"url\": \"https://www.wsj.com/tech/ai?gaa_at=eafs&gaa_n=ASWzDAiD19-XB4a2UlQ6ms4UP_-w4rNvuFBxK1w-llV4XI2eF-rd0c8he6Hg&gaa_ts=68a596b9&gaa_sig=cd5EZLL_l8jVii7qJ5R0pAI5w7HZe65qSrO9ctYLUrxegNMeVIWaBZcGb6QHjjIYdROPMmCLv4QmtyHd8P4TVw%3D%3D\", \"title\": \"Artificial Intelligence - Latest AI News and Analysis\", \"content\": \"Artificial Intelligence · Databricks Raising Funds at $100 Billion Valuation · OpenAI Launches Cheapest ChatGPT Plan in India · AI Drives Rise in CEO\", \"score\": 0.75377536, \"raw_content\": null}, {\"url\": \"https://indianexpress.com/section/technology/artificial-intelligence/\", \"title\": \"Artificial Intelligence: Read latest news updates on AI ...\", \"content\": \"ARTIFICIAL INTELLIGENCE NEWS · US examines equity stake in chip makers for CHIPS Act cash grants · OpenAI\\'s Sam Altman says AI market bubble is real but also\", \"score\": 0.70750624, \"raw_content\": null}, {\"url\": \"https://www.artificialintelligence-news.com/\", \"title\": \"AI News | Latest AI News, Analysis & Events\", \"content\": \"UK urged to seize \\'once-in-20-years\\' AI chip design opportunity · Why security chiefs demand urgent regulation of AI like DeepSeek · Is Perplexity AI\\'s $34.5b\", \"score\": 0.68723184, \"raw_content\": null}, {\"url\": \"https://economictimes.indiatimes.com/topic/artificial-intelligence\", \"title\": \"Latest News & Videos, Photos about artificial intelligence\", \"content\": \"ARTIFICIAL INTELLIGENCE · Morgan Stanley: AI boom could add $16 trillion to markets, but workers may pay the price as 90% jobs may be impacted · ET MSME Awards\", \"score\": 0.6044228, \"raw_content\": null}], \"response_time\": 1.16, \"request_id\": \"76dfc23b-4d6e-4fdd-8f00-ff6dec4467b9\"}', name='tavily_search', tool_call_id='0qc968yxc')]"
      ]
     },
     "execution_count": 54,
     "metadata": {},
     "output_type": "execute_result"
    }
   ],
   "source": [
    "for tool_call in ai_msg.tool_calls:\n",
    "    # for actual tool call tool_name is replace with tool_call\n",
    "    selected_tool={\"addition\":addition,\"multiplication\":multiplication,\"wikipedia\":wiki_tool,\"tavily_search\":tavily_tool}[tool_call[\"name\"].lower()]\n",
    "    tool_msg=selected_tool.invoke(tool_call)\n",
    "    messages.append(tool_msg)\n",
    "messages"
   ]
  },
  {
   "cell_type": "code",
   "execution_count": 55,
   "id": "ea7eb70d",
   "metadata": {},
   "outputs": [
    {
     "data": {
      "text/plain": [
       "'1. **What is LangChain?**  \\n   LangChain is a software framework designed to integrate large language models (LLMs) into applications. It supports tasks like document analysis, summarization, chatbots, and code analysis by streamlining LLM integration.\\n\\n2. **5 × 15 = 75**  \\n\\n3. **Recent AI News Summary**  \\n   - **DeepSeek V3**: A new large language model released by DeepSeek.  \\n   - **Databricks Valuation**: Databricks reached a $100 billion valuation.  \\n   - **OpenAI’s Affordable Plan**: OpenAI launched the cheapest ChatGPT plan in India.  \\n   - **AI Market Impact**: Reports suggest AI could add $16 trillion to global markets, though job displacement risks are noted.  \\n\\nFor more details, check [Analytics India Mag](https://analyticsindiamag.com/ai-news-updates/) or [WSJ AI Coverage](https://www.wsj.com/tech/ai).'"
      ]
     },
     "execution_count": 55,
     "metadata": {},
     "output_type": "execute_result"
    }
   ],
   "source": [
    "response=llm_with_tool.invoke(messages)\n",
    "response.content"
   ]
  }
 ],
 "metadata": {
  "kernelspec": {
   "display_name": "GenAi_AgenticAi By Krish nayak",
   "language": "python",
   "name": "python3"
  },
  "language_info": {
   "codemirror_mode": {
    "name": "ipython",
    "version": 3
   },
   "file_extension": ".py",
   "mimetype": "text/x-python",
   "name": "python",
   "nbconvert_exporter": "python",
   "pygments_lexer": "ipython3",
   "version": "3.12.7"
  }
 },
 "nbformat": 4,
 "nbformat_minor": 5
}
